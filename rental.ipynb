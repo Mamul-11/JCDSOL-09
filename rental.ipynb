{
 "cells": [
  {
   "cell_type": "code",
   "execution_count": 6,
   "metadata": {},
   "outputs": [
    {
     "ename": "TypeError",
     "evalue": "'module' object is not callable",
     "output_type": "error",
     "traceback": [
      "\u001b[1;31m---------------------------------------------------------------------------\u001b[0m",
      "\u001b[1;31mTypeError\u001b[0m                                 Traceback (most recent call last)",
      "Cell \u001b[1;32mIn [6], line 60\u001b[0m\n\u001b[0;32m      1\u001b[0m \u001b[39m# listMobil = {\u001b[39;00m\n\u001b[0;32m      2\u001b[0m \u001b[39m#     'Car01' :{\u001b[39;00m\n\u001b[0;32m      3\u001b[0m \u001b[39m#         'jenis' :'SUV',\u001b[39;00m\n\u001b[1;32m   (...)\u001b[0m\n\u001b[0;32m     56\u001b[0m \u001b[39m#     # for i in range(len(listMobil)) :\u001b[39;00m\n\u001b[0;32m     57\u001b[0m \u001b[39m#     #     print(i,f\"{listMobil[i]['id']}\\t| {listMobil[i]['jenis']}\\t| {listMobil[i]['merek']}\\t| {listMobil[i]['type']}\\t| {listMobil[i]['keluar']}\\t| {list[i]['harga']}\\t| {list[i]['stock']}\\t|\")\u001b[39;00m\n\u001b[0;32m     59\u001b[0m \u001b[39mimport\u001b[39;00m \u001b[39mdatetime\u001b[39;00m\n\u001b[1;32m---> 60\u001b[0m a \u001b[39m=\u001b[39m datetime(\u001b[39minput\u001b[39;49m())\n\u001b[0;32m     62\u001b[0m \u001b[39mprint\u001b[39m(a)\n",
      "\u001b[1;31mTypeError\u001b[0m: 'module' object is not callable"
     ]
    }
   ],
   "source": [
    "# listMobil = {\n",
    "#     'Car01' :{\n",
    "#         'jenis' :'SUV',\n",
    "#         'merek' : 'Fortuner',\n",
    "#         'tipe' : 'VNT',\n",
    "#         'keluar' : 2012,\n",
    "#         'harga' : 2300000,\n",
    "#         'stock' : 4 \n",
    "#     },'Car02' :{\n",
    "#         'jenis' :'MPV',\n",
    "#         'merek' : 'Xpander',\n",
    "#         'tipe' : 'CVT',\n",
    "#         'keluar' : 2021,\n",
    "#         'harga' : 1600000,\n",
    "#         'stock' : 8\n",
    "#     },'Car03' :{\n",
    "#         'jenis' :'sedan',\n",
    "#         'merek' : 'JAZZ',\n",
    "#         'tipe' : 'CVT',\n",
    "#         'keluar' : 2013,\n",
    "#         'harga' : 1200000,\n",
    "#         'stock' : 5\n",
    "#     },'Car04' :{\n",
    "#         'jenis' :'SUV',\n",
    "#         'merek' : 'CR-V',\n",
    "#         'tipe' : '1.5 S CVT',\n",
    "#         'keluar' : 2020,\n",
    "#         'harga' : 1600000,\n",
    "#         'stock' : 5\n",
    "#     },'Car05' : {\n",
    "#         'jenis' :'MPV',\n",
    "#         'merek' : 'Alphard',\n",
    "#         'tipe' : 'Tranformer',\n",
    "#         'keluar' : 2022,\n",
    "#         'harga' : 2500000,\n",
    "#         'stock' : 2\n",
    "#     }\n",
    "# }\n",
    "\n",
    "\n",
    "\n",
    "# cast = []\n",
    "\n",
    "# # print(listMobil['Car05']['type'])\n",
    "\n",
    "# def tampilDaftarMobil():\n",
    "#     print('Daftar Sewa Mobil')\n",
    "#     print('Code\\t| Jenis \\t| Merek \\t| Type  \\t| Keluaran \\t| harga/hari\\t| Stock\\t|')\n",
    "#     for i, n in listMobil.items() :\n",
    "#         print('{} \\t| {}   \\t| {}  \\t| {}   \\t| {}  \\t| {}\\t| {}\\t|'.format(i, n['jenis'], n['merek'], n['tipe'], n['keluar'], n['harga'], n['stock']))\n",
    "    \n",
    "    \n",
    "# print(tampilDaftarMobil())    \n",
    "    \n",
    "    \n",
    "#     # for i in range(len(listMobil)) :\n",
    "#     #     print(i,f\"{listMobil[i]['id']}\\t| {listMobil[i]['jenis']}\\t| {listMobil[i]['merek']}\\t| {listMobil[i]['type']}\\t| {listMobil[i]['keluar']}\\t| {list[i]['harga']}\\t| {list[i]['stock']}\\t|\")\n",
    "\n",
    "import datetime\n",
    "a = datetime(input())\n",
    "\n",
    "print(a)\n"
   ]
  }
 ],
 "metadata": {
  "kernelspec": {
   "display_name": "Python 3",
   "language": "python",
   "name": "python3"
  },
  "language_info": {
   "codemirror_mode": {
    "name": "ipython",
    "version": 3
   },
   "file_extension": ".py",
   "mimetype": "text/x-python",
   "name": "python",
   "nbconvert_exporter": "python",
   "pygments_lexer": "ipython3",
   "version": "3.10.8"
  },
  "orig_nbformat": 4,
  "vscode": {
   "interpreter": {
    "hash": "a9cff5a362bc38ef45d817ae74b1af54d6a076e3d773891282bce078b815ba34"
   }
  }
 },
 "nbformat": 4,
 "nbformat_minor": 2
}
