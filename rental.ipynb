{
 "cells": [
  {
   "cell_type": "code",
   "execution_count": 2,
   "metadata": {},
   "outputs": [
    {
     "name": "stdout",
     "output_type": "stream",
     "text": [
      "Daftar Sewa Mobil\n",
      "Code\t| Jenis \t| Merek \t| Type  \t| Keluaran \t| harga/hari\t| Stock\t|\n",
      "Car01 \t| SUV   \t| Fortuner  \t| VNT   \t| 2012  \t| 2300000\t| 4\t|\n",
      "Car02 \t| MPV   \t| Xpander  \t| CVT   \t| 2021  \t| 1600000\t| 8\t|\n",
      "Car03 \t| sedan   \t| JAZZ  \t| CVT   \t| 2013  \t| 1200000\t| 5\t|\n",
      "Car04 \t| SUV   \t| CR-V  \t| 1.5 S CVT   \t| 2020  \t| 1600000\t| 5\t|\n",
      "Car05 \t| MPV   \t| Alphard  \t| Tranformer   \t| 2022  \t| 2500000\t| 2\t|\n",
      "None\n"
     ]
    }
   ],
   "source": [
    "listMobil = {\n",
    "    'Car01' :{\n",
    "        'jenis' :'SUV',\n",
    "        'merek' : 'Fortuner',\n",
    "        'tipe' : 'VNT',\n",
    "        'keluar' : 2012,\n",
    "        'harga' : 2300000,\n",
    "        'stock' : 4 \n",
    "    },'Car02' :{\n",
    "        'jenis' :'MPV',\n",
    "        'merek' : 'Xpander',\n",
    "        'tipe' : 'CVT',\n",
    "        'keluar' : 2021,\n",
    "        'harga' : 1600000,\n",
    "        'stock' : 8\n",
    "    },'Car03' :{\n",
    "        'jenis' :'sedan',\n",
    "        'merek' : 'JAZZ',\n",
    "        'tipe' : 'CVT',\n",
    "        'keluar' : 2013,\n",
    "        'harga' : 1200000,\n",
    "        'stock' : 5\n",
    "    },'Car04' :{\n",
    "        'jenis' :'SUV',\n",
    "        'merek' : 'CR-V',\n",
    "        'tipe' : '1.5 S CVT',\n",
    "        'keluar' : 2020,\n",
    "        'harga' : 1600000,\n",
    "        'stock' : 5\n",
    "    },'Car05' : {\n",
    "        'jenis' :'MPV',\n",
    "        'merek' : 'Alphard',\n",
    "        'tipe' : 'Tranformer',\n",
    "        'keluar' : 2022,\n",
    "        'harga' : 2500000,\n",
    "        'stock' : 2\n",
    "    }\n",
    "}\n",
    "\n",
    "\n",
    "\n",
    "cast = []\n",
    "\n",
    "# print(listMobil['Car05']['type'])\n",
    "\n",
    "def tampilDaftarMobil():\n",
    "    print('Daftar Sewa Mobil')\n",
    "    print('Code\\t| Jenis \\t| Merek \\t| Type  \\t| Keluaran \\t| harga/hari\\t| Stock\\t|')\n",
    "    for i, n in listMobil.items() :\n",
    "        print('{} \\t| {}   \\t| {}  \\t| {}   \\t| {}  \\t| {}\\t| {}\\t|'.format(i, n['jenis'], n['merek'], n['tipe'], n['keluar'], n['harga'], n['stock']))\n",
    "    \n",
    "    \n",
    "print(tampilDaftarMobil())    \n",
    "    \n",
    "    \n",
    "    # for i in range(len(listMobil)) :\n",
    "    #     print(i,f\"{listMobil[i]['id']}\\t| {listMobil[i]['jenis']}\\t| {listMobil[i]['merek']}\\t| {listMobil[i]['type']}\\t| {listMobil[i]['keluar']}\\t| {list[i]['harga']}\\t| {list[i]['stock']}\\t|\")\n",
    "\n"
   ]
  }
 ],
 "metadata": {
  "kernelspec": {
   "display_name": "Python 3",
   "language": "python",
   "name": "python3"
  },
  "language_info": {
   "codemirror_mode": {
    "name": "ipython",
    "version": 3
   },
   "file_extension": ".py",
   "mimetype": "text/x-python",
   "name": "python",
   "nbconvert_exporter": "python",
   "pygments_lexer": "ipython3",
   "version": "3.10.8"
  },
  "orig_nbformat": 4,
  "vscode": {
   "interpreter": {
    "hash": "a9cff5a362bc38ef45d817ae74b1af54d6a076e3d773891282bce078b815ba34"
   }
  }
 },
 "nbformat": 4,
 "nbformat_minor": 2
}
